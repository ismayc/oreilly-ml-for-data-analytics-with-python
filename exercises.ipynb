{
  "cells": [
    {
      "cell_type": "markdown",
      "metadata": {},
      "source": [
        "---\n",
        "title: 'Walkthroughs and Exercises for *Machine Learning for Data Analytics with Python*'  \n",
        "author: \"Dr. Chester Ismay\"  \n",
        "format:\n",
        "  html:\n",
        "    theme: flatly\n",
        "    toc: true\n",
        "    toc-floating: true \n",
        "engine: knitr  \n",
        "---\n",
        "\n",
        "# Intro: Getting Started with Machine Learning for Data-Driven Decisions\n",
        "\n",
        "## Walkthrough #1: Setting Up the Python Environment for ML\n",
        "\n",
        "If you haven't already installed Python, Jupyter, and the necessary packages, there are instructions on the course repo in the README to do so [here](https://github.com/ismayc/oreilly-data-analysis-with-python/blob/main/README.md). \n",
        "\n",
        "You can also install the packages directly in a Jupyter notebook with"
      ]
    },
    {
      "cell_type": "code",
      "metadata": {},
      "source": [
        "!pip install pandas seaborn matplotlib scikit-learn mlxtend"
      ],
      "execution_count": null,
      "outputs": []
    },
    {
      "cell_type": "markdown",
      "metadata": {},
      "source": [
        "If you aren't able to do this on your machine, you may want to check out [Google Colab](https://colab.research.google.com/). It's a free service that allows you to run Jupyter notebooks in the cloud. Alternatively, I've set up some temporary notebooks on Binder [here](https://mybinder.org/v2/gh/ismayc/oreilly-ml-for-data-analytics-with-python/HEAD?urlpath=%2Fdoc%2Ftree%2Fexercises.ipynb) that you can work with online as well.\n",
        "\n",
        "Run the following code to check that each of the needed packages are installed. If you get an error, you may need to install the package(s) again.\n"
      ]
    },
    {
      "cell_type": "code",
      "metadata": {},
      "source": [
        "import pandas as pd\n",
        "import seaborn as sns\n",
        "import matplotlib.pyplot as plt\n",
        "import seaborn as sns\n",
        "from sklearn.model_selection import train_test_split\n",
        "from sklearn.preprocessing import StandardScaler\n",
        "from sklearn.linear_model import LinearRegression\n",
        "from sklearn.metrics import mean_absolute_error, r2_score\n",
        "from sklearn.ensemble import RandomForestClassifier\n",
        "from sklearn.metrics import accuracy_score, precision_score, recall_score, confusion_matrix\n",
        "from sklearn.cluster import KMeans\n",
        "from sklearn.metrics import silhouette_score\n",
        "from mlxtend.frequent_patterns import apriori, association_rules\n",
        "from sklearn.linear_model import LogisticRegression\n",
        "from sklearn.model_selection import cross_val_score, cross_validate\n",
        "from sklearn.model_selection import GridSearchCV"
      ],
      "execution_count": null,
      "outputs": []
    },
    {
      "cell_type": "code",
      "metadata": {},
      "source": [
        "# Load dataset\n",
        "telco_churn_raw = pd.read_csv('telco-customer-churn.csv')"
      ],
      "execution_count": null,
      "outputs": []
    },
    {
      "cell_type": "markdown",
      "metadata": {},
      "source": [
        "## Exercise #1: Setting Up the Python Environment\n",
        "\n",
        "By completing this exercise, you will be able to  \n",
        "\n",
        "- Import necessary Python packages  \n",
        "- Check for successful package loading  \n",
        "- Load datasets into Python\n",
        "\n",
        "Follow the instructions above in Walkthrough #1 to check for correct installation \n",
        "of necessary packages."
      ]
    },
    {
      "cell_type": "code",
      "metadata": {},
      "source": [
        "# Load dataset\n",
        "marketing_campaign_raw = pd.read_csv('marketing_campaign.csv')"
      ],
      "execution_count": null,
      "outputs": []
    },
    {
      "cell_type": "markdown",
      "metadata": {},
      "source": [
        "---\n",
        "\n",
        "# Module 1: Data Understanding and Preprocessing for Machine Learning\n",
        "\n",
        "\n",
        "## Walkthrough #2: Exploring and Preprocessing Data with Pandas & Seaborn\n",
        "\n",
        "### Inspect a dataset using Pandas\n"
      ]
    },
    {
      "cell_type": "code",
      "metadata": {},
      "source": [
        "# Inspect data structure"
      ],
      "execution_count": null,
      "outputs": []
    },
    {
      "cell_type": "code",
      "metadata": {},
      "source": [
        "# Check for missing values"
      ],
      "execution_count": null,
      "outputs": []
    },
    {
      "cell_type": "code",
      "metadata": {},
      "source": [
        "# Check for duplicate rows"
      ],
      "execution_count": null,
      "outputs": []
    },
    {
      "cell_type": "markdown",
      "metadata": {},
      "source": [
        "### Handle missing values and clean data"
      ]
    },
    {
      "cell_type": "code",
      "metadata": {},
      "source": [
        "# Make a copy of the data to fix and clean"
      ],
      "execution_count": null,
      "outputs": []
    },
    {
      "cell_type": "code",
      "metadata": {},
      "source": [
        "# Handle missing values"
      ],
      "execution_count": null,
      "outputs": []
    },
    {
      "cell_type": "code",
      "metadata": {},
      "source": [
        "# Standardize column formats (e.g., convert Yes/No to binary for a few columns)"
      ],
      "execution_count": null,
      "outputs": []
    },
    {
      "cell_type": "code",
      "metadata": {},
      "source": [
        "# Summarize statistics"
      ],
      "execution_count": null,
      "outputs": []
    },
    {
      "cell_type": "markdown",
      "metadata": {},
      "source": [
        "### Create visualizations to identify key business trends"
      ]
    },
    {
      "cell_type": "code",
      "metadata": {},
      "source": [
        "# Visualize Churn by tenure in a violin plot"
      ],
      "execution_count": null,
      "outputs": []
    },
    {
      "cell_type": "code",
      "metadata": {},
      "source": [
        "# Visualize the distribution of AvgServiceUsageScore"
      ],
      "execution_count": null,
      "outputs": []
    },
    {
      "cell_type": "code",
      "metadata": {},
      "source": [
        "# Visualize the distribution of MonthlyCharges"
      ],
      "execution_count": null,
      "outputs": []
    },
    {
      "cell_type": "code",
      "metadata": {},
      "source": [
        "# Look at the relationship between AvgServiceUsageScore and MonthlyCharges"
      ],
      "execution_count": null,
      "outputs": []
    },
    {
      "cell_type": "code",
      "metadata": {},
      "source": [
        "# Visualize the relationship between MonthlyCharges and Churn"
      ],
      "execution_count": null,
      "outputs": []
    },
    {
      "cell_type": "markdown",
      "metadata": {},
      "source": [
        "---\n",
        "\n",
        "\n",
        "\n",
        "## Exercise #2: Exploring and Preprocessing Data with Pandas & Seaborn\n",
        "\n",
        "### Inspect a dataset using Pandas"
      ]
    },
    {
      "cell_type": "code",
      "metadata": {},
      "source": [
        "# Inspect data structure"
      ],
      "execution_count": null,
      "outputs": []
    },
    {
      "cell_type": "code",
      "metadata": {},
      "source": [
        "# Check for missing values"
      ],
      "execution_count": null,
      "outputs": []
    },
    {
      "cell_type": "code",
      "metadata": {},
      "source": [
        "# Check for duplicate rows"
      ],
      "execution_count": null,
      "outputs": []
    },
    {
      "cell_type": "markdown",
      "metadata": {},
      "source": [
        "### Handle missing values and clean data"
      ]
    },
    {
      "cell_type": "code",
      "metadata": {},
      "source": [
        "# Create a clean working copy"
      ],
      "execution_count": null,
      "outputs": []
    },
    {
      "cell_type": "code",
      "metadata": {},
      "source": [
        "# Handle missing values of Income"
      ],
      "execution_count": null,
      "outputs": []
    },
    {
      "cell_type": "code",
      "metadata": {},
      "source": [
        "# Add new features for TotalChildren and \n",
        "# TotalSpent = sum of all spending (Mnt) categories"
      ],
      "execution_count": null,
      "outputs": []
    },
    {
      "cell_type": "code",
      "metadata": {},
      "source": [
        "# Convert Dt_Customer to datetime"
      ],
      "execution_count": null,
      "outputs": []
    },
    {
      "cell_type": "code",
      "metadata": {},
      "source": [
        "# Summarize structure"
      ],
      "execution_count": null,
      "outputs": []
    },
    {
      "cell_type": "markdown",
      "metadata": {},
      "source": [
        "### Create visualizations to identify key business trends"
      ]
    },
    {
      "cell_type": "code",
      "metadata": {},
      "source": [
        "# Violin plot of Income by Campaign Response"
      ],
      "execution_count": null,
      "outputs": []
    },
    {
      "cell_type": "code",
      "metadata": {},
      "source": [
        "# Histogram of Total Spent"
      ],
      "execution_count": null,
      "outputs": []
    },
    {
      "cell_type": "code",
      "metadata": {},
      "source": [
        "# Relationship between Income and Total Spent colored by Campaign Response"
      ],
      "execution_count": null,
      "outputs": []
    },
    {
      "cell_type": "code",
      "metadata": {},
      "source": [
        "# Bar plot of Campaign Response by Education Level"
      ],
      "execution_count": null,
      "outputs": []
    },
    {
      "cell_type": "markdown",
      "metadata": {},
      "source": [
        "---\n",
        "\n",
        "\n",
        "# Module 2: Supervised Learning for Business Decisions\n",
        "\n",
        "## Walkthrough #3: Build a Regression Model for Pricing Optimization\n",
        "\n",
        "### Split the data into training and validation sets"
      ]
    },
    {
      "cell_type": "code",
      "metadata": {},
      "source": [
        "# Choose AvgServiceUsageScore as the predictor and MonthlyCharges as the target"
      ],
      "execution_count": null,
      "outputs": []
    },
    {
      "cell_type": "code",
      "metadata": {},
      "source": [
        "# Scale the predictor"
      ],
      "execution_count": null,
      "outputs": []
    },
    {
      "cell_type": "code",
      "metadata": {},
      "source": [
        "# Make an 80/20 split"
      ],
      "execution_count": null,
      "outputs": []
    },
    {
      "cell_type": "markdown",
      "metadata": {},
      "source": [
        "### Train a linear regression model"
      ]
    },
    {
      "cell_type": "code",
      "metadata": {},
      "source": [
        "# Instantiate and fit the model"
      ],
      "execution_count": null,
      "outputs": []
    },
    {
      "cell_type": "code",
      "metadata": {},
      "source": [
        "# Print the intercept and coefficient"
      ],
      "execution_count": null,
      "outputs": []
    },
    {
      "cell_type": "markdown",
      "metadata": {},
      "source": [
        "### Evaluate model performance on the validation set"
      ]
    },
    {
      "cell_type": "code",
      "metadata": {},
      "source": [
        "# Predict on the validation set"
      ],
      "execution_count": null,
      "outputs": []
    },
    {
      "cell_type": "code",
      "metadata": {},
      "source": [
        "# Evaluate model performance with R^2 and MAE"
      ],
      "execution_count": null,
      "outputs": []
    },
    {
      "cell_type": "code",
      "metadata": {},
      "source": [
        "# Print these evaluation metrics"
      ],
      "execution_count": null,
      "outputs": []
    },
    {
      "cell_type": "markdown",
      "metadata": {},
      "source": [
        "---\n",
        "\n",
        "## Exercise #3: Build a Regression Model for Pricing Optimization\n",
        "\n",
        "### Split the data into training and validation sets"
      ]
    },
    {
      "cell_type": "code",
      "metadata": {},
      "source": [
        "# Predictor (Income) and target (TotalSpent)"
      ],
      "execution_count": null,
      "outputs": []
    },
    {
      "cell_type": "code",
      "metadata": {},
      "source": [
        "# Standardize the predictor"
      ],
      "execution_count": null,
      "outputs": []
    },
    {
      "cell_type": "code",
      "metadata": {},
      "source": [
        "# Train-test split"
      ],
      "execution_count": null,
      "outputs": []
    },
    {
      "cell_type": "markdown",
      "metadata": {},
      "source": [
        "### Train a linear regression model"
      ]
    },
    {
      "cell_type": "code",
      "metadata": {},
      "source": [
        "# Instantiate and fit the model"
      ],
      "execution_count": null,
      "outputs": []
    },
    {
      "cell_type": "code",
      "metadata": {},
      "source": [
        "# Print the intercept and coefficient"
      ],
      "execution_count": null,
      "outputs": []
    },
    {
      "cell_type": "markdown",
      "metadata": {},
      "source": [
        "### Evaluate model performance on the validation set"
      ]
    },
    {
      "cell_type": "code",
      "metadata": {},
      "source": [
        "# Predict on the validation set"
      ],
      "execution_count": null,
      "outputs": []
    },
    {
      "cell_type": "code",
      "metadata": {},
      "source": [
        "# Get R^2 and MAE"
      ],
      "execution_count": null,
      "outputs": []
    },
    {
      "cell_type": "code",
      "metadata": {},
      "source": [
        "# Print these evaluation metrics\n"
      ],
      "execution_count": null,
      "outputs": []
    },
    {
      "cell_type": "markdown",
      "metadata": {},
      "source": [
        "---\n",
        "\n",
        "## Walkthrough #4: Implement a Classification Model for Customer Churn\n",
        "\n",
        "### Split the data into training and validation sets"
      ]
    },
    {
      "cell_type": "code",
      "metadata": {},
      "source": [
        "# Select relevant features and set Churn to target"
      ],
      "execution_count": null,
      "outputs": []
    },
    {
      "cell_type": "markdown",
      "metadata": {},
      "source": [
        "Scaling is not as important for tree-based models."
      ]
    },
    {
      "cell_type": "markdown",
      "metadata": {},
      "source": [
        "### Train a Random Forest classification model"
      ]
    },
    {
      "cell_type": "code",
      "metadata": {},
      "source": [
        "# Train Random Forest classifier"
      ],
      "execution_count": null,
      "outputs": []
    },
    {
      "cell_type": "markdown",
      "metadata": {},
      "source": [
        "### Evaluate model performance on the validation set"
      ]
    },
    {
      "cell_type": "code",
      "metadata": {},
      "source": [
        "# Predict on the validation set"
      ],
      "execution_count": null,
      "outputs": []
    },
    {
      "cell_type": "code",
      "metadata": {},
      "source": [
        "# Print evaluation metrics (Accuracy, Precision, Recall)"
      ],
      "execution_count": null,
      "outputs": []
    },
    {
      "cell_type": "code",
      "metadata": {},
      "source": [
        "# Find confusion matrix"
      ],
      "execution_count": null,
      "outputs": []
    },
    {
      "cell_type": "code",
      "metadata": {},
      "source": [
        "# Set labels for confusion matrix and turn into DataFrame"
      ],
      "execution_count": null,
      "outputs": []
    },
    {
      "cell_type": "code",
      "metadata": {},
      "source": [
        "# Print formatted confusion matrix"
      ],
      "execution_count": null,
      "outputs": []
    },
    {
      "cell_type": "markdown",
      "metadata": {},
      "source": [
        "---\n",
        "\n",
        "## Exercise #4: Implement a Classification Model for Customer Churn\n",
        "\n",
        "### Split the data into training and validation sets"
      ]
    },
    {
      "cell_type": "code",
      "metadata": {},
      "source": [
        "# Select relevant features (Income, TotalSpent, TotalChildren) and \n",
        "# set Response to target"
      ],
      "execution_count": null,
      "outputs": []
    },
    {
      "cell_type": "code",
      "metadata": {},
      "source": [
        "# Split into training and validation sets"
      ],
      "execution_count": null,
      "outputs": []
    },
    {
      "cell_type": "markdown",
      "metadata": {},
      "source": [
        "### Train a Random Forest classification model"
      ]
    },
    {
      "cell_type": "code",
      "metadata": {},
      "source": [
        "# Train Random Forest classifier"
      ],
      "execution_count": null,
      "outputs": []
    },
    {
      "cell_type": "markdown",
      "metadata": {},
      "source": [
        "### Evaluate model performance on the validation set"
      ]
    },
    {
      "cell_type": "code",
      "metadata": {},
      "source": [
        "# Predict on the validation set"
      ],
      "execution_count": null,
      "outputs": []
    },
    {
      "cell_type": "code",
      "metadata": {},
      "source": [
        "# Get accuracy, precision, and recall"
      ],
      "execution_count": null,
      "outputs": []
    },
    {
      "cell_type": "code",
      "metadata": {},
      "source": [
        "# Set labels and turn confusion matrix into DataFrame\n",
        "\n",
        "# Print formatted confusion matrix"
      ],
      "execution_count": null,
      "outputs": []
    },
    {
      "cell_type": "markdown",
      "metadata": {},
      "source": [
        "---\n",
        "\n",
        "# Module 3: Unsupervised Learning and Pattern Discovery in Business\n",
        "\n",
        "## Walkthrough #5: Exploring K-Means Clustering for Customer Segmentation\n",
        "\n",
        "### Apply K-Means clustering to segment customers"
      ]
    },
    {
      "cell_type": "code",
      "metadata": {},
      "source": [
        "# Set ContractType as a numerical variable\n",
        "\n",
        "\n",
        "# Select relevant features\n",
        "\n",
        "\n",
        "# Standardize features"
      ],
      "execution_count": null,
      "outputs": []
    },
    {
      "cell_type": "markdown",
      "metadata": {},
      "source": [
        "### Determine the optimal number of clusters using the Elbow Method"
      ]
    },
    {
      "cell_type": "code",
      "metadata": {},
      "source": [
        "# Set inertia as an empty list\n",
        "\n",
        "\n",
        "# Loop through k=1 to k=10\n",
        "\n",
        "\n",
        "# Fit KMeans for each k and append inertia to the list\n",
        "\n",
        "\n",
        "# Plot the inertia values against the number of clusters"
      ],
      "execution_count": null,
      "outputs": []
    },
    {
      "cell_type": "markdown",
      "metadata": {},
      "source": [
        "### Verify using the silhouette score (optional but recommended)"
      ]
    },
    {
      "cell_type": "code",
      "metadata": {},
      "source": [
        "# Evaluate silhouette scores for k=3 to k=6\n",
        "\n",
        "\n",
        "\n",
        "    # Fit KMeans for each k and calculate silhouette score\n",
        "    \n",
        "    \n",
        "    # Fit KMeans and get labels\n",
        "    \n",
        "    \n",
        "    # Calculate silhouette score\n",
        "    \n",
        "    \n",
        "    # Store silhouette score\n",
        "    \n",
        "\n",
        "# Print silhouette scores"
      ],
      "execution_count": null,
      "outputs": []
    },
    {
      "cell_type": "markdown",
      "metadata": {},
      "source": [
        "### Fit K-means and assign cluster labels to each customer"
      ]
    },
    {
      "cell_type": "code",
      "metadata": {},
      "source": [
        "# Let's assume the elbow suggested k=3\n",
        "\n",
        "\n",
        "# Fit KMeans with optimal k\n",
        "\n",
        "# Create a new column in the DataFrame for cluster labels"
      ],
      "execution_count": null,
      "outputs": []
    },
    {
      "cell_type": "markdown",
      "metadata": {},
      "source": [
        "### Visualize customer segments using a 2D plot"
      ]
    },
    {
      "cell_type": "code",
      "metadata": {},
      "source": [
        "# Visualize clusters in 2D space (using tenure and AvgServiceUsageScore)"
      ],
      "execution_count": null,
      "outputs": []
    },
    {
      "cell_type": "markdown",
      "metadata": {},
      "source": [
        "---\n",
        "\n",
        "## Exercise #5: Exploring K-Means Clustering for Customer Segmentation\n",
        "\n",
        "### Apply K-Means clustering to segment customers"
      ]
    },
    {
      "cell_type": "code",
      "metadata": {},
      "source": [
        "# Select relevant features (Income, TotalSpent, TotalChildren)\n",
        "\n",
        "\n",
        "# Standardize features"
      ],
      "execution_count": null,
      "outputs": []
    },
    {
      "cell_type": "markdown",
      "metadata": {},
      "source": [
        "### Determine the optimal number of clusters using the Elbow Method"
      ]
    },
    {
      "cell_type": "code",
      "metadata": {},
      "source": [
        "# Append inertia values for k=1 to k=10 after fitting KMeans\n",
        "\n",
        "# Plot Elbow Method for Optimal K using inertia values"
      ],
      "execution_count": null,
      "outputs": []
    },
    {
      "cell_type": "markdown",
      "metadata": {},
      "source": [
        "### Verify using the silhouette score (optional but recommended)"
      ]
    },
    {
      "cell_type": "code",
      "metadata": {},
      "source": [
        "# Calculate silhouette scores for k=3 to k=6"
      ],
      "execution_count": null,
      "outputs": []
    },
    {
      "cell_type": "markdown",
      "metadata": {},
      "source": [
        "### Fit K-means and assign cluster labels to each customer"
      ]
    },
    {
      "cell_type": "code",
      "metadata": {},
      "source": [
        "# Determine optimal k from the elbow method + silhouette score\n",
        "\n",
        "# Run KMeans with optimal k\n",
        "\n",
        "# Create a new column in the DataFrame for cluster labels"
      ],
      "execution_count": null,
      "outputs": []
    },
    {
      "cell_type": "markdown",
      "metadata": {},
      "source": [
        "### Visualize customer segments using a 2D plot"
      ]
    },
    {
      "cell_type": "code",
      "metadata": {},
      "source": [
        "# Look at clusters using TotalChildren and TotalSpent\n",
        "\n",
        "# Uncomment to set x-axis to integer ticks only\n",
        "# plt.gca().xaxis.set_major_locator(ticker.MultipleLocator(1))"
      ],
      "execution_count": null,
      "outputs": []
    },
    {
      "cell_type": "markdown",
      "metadata": {},
      "source": [
        "---\n",
        "\n",
        "## Walkthrough #6: Market Basket Analysis with Apriori Algorithm\n",
        "\n",
        "### Prepare transactional data (services as items)"
      ]
    },
    {
      "cell_type": "code",
      "metadata": {},
      "source": [
        "# Select binary service columns to act like \"products\"\n",
        "\n",
        "\n",
        "# Convert service columns to boolean (preference of apriori() function)"
      ],
      "execution_count": null,
      "outputs": []
    },
    {
      "cell_type": "markdown",
      "metadata": {},
      "source": [
        "### Apply the Apriori algorithm to identify frequent itemsets"
      ]
    },
    {
      "cell_type": "code",
      "metadata": {},
      "source": [
        "# Use apriori to find frequent itemsets with min_support=0.2"
      ],
      "execution_count": null,
      "outputs": []
    },
    {
      "cell_type": "markdown",
      "metadata": {},
      "source": [
        "### Generate association rules from frequent itemsets"
      ]
    },
    {
      "cell_type": "code",
      "metadata": {},
      "source": [
        "# Generate association rules with min_threshold=0.6 using confidence metric\n",
        "\n",
        "\n",
        "# Return columns to extract insights"
      ],
      "execution_count": null,
      "outputs": []
    },
    {
      "cell_type": "markdown",
      "metadata": {},
      "source": [
        "### Interpret insights\n",
        "\n",
        "Key Metrics:\n",
        "\n",
        "\n",
        "\n",
        "Interpretation of Key Rules:\n",
        "\n",
        "\n",
        "Business insights:  \n",
        "\n",
        "\n",
        "General pattern:\n",
        "\n",
        "\n",
        "---\n",
        "\n",
        "## Exercise #6: Market Basket Analysis with Apriori Algorithm\n",
        "\n",
        "### Prepare transactional data (product categories as items)"
      ]
    },
    {
      "cell_type": "code",
      "metadata": {},
      "source": [
        "# Select binary columns representing product purchases\n",
        "\n",
        "# Convert product columns to binary: 1 if any amount was spent, else 0\n",
        "\n",
        "# Rename columns for cleaner output\n",
        "\n",
        "# Set columns as booleans"
      ],
      "execution_count": null,
      "outputs": []
    },
    {
      "cell_type": "markdown",
      "metadata": {},
      "source": [
        "### Apply the Apriori algorithm to identify frequent itemsets"
      ]
    },
    {
      "cell_type": "code",
      "metadata": {},
      "source": [
        "# Run apriori algorithm to find frequent itemsets with min_support=0.2\n",
        "\n",
        "\n",
        "# Sort itemset values by support"
      ],
      "execution_count": null,
      "outputs": []
    },
    {
      "cell_type": "markdown",
      "metadata": {},
      "source": [
        "### Generate association rules from frequent itemsets"
      ]
    },
    {
      "cell_type": "code",
      "metadata": {},
      "source": [
        "# Generate association rules with min_threshold=0.6 using confidence metric\n",
        "\n",
        "# Sort rules by lift"
      ],
      "execution_count": null,
      "outputs": []
    },
    {
      "cell_type": "markdown",
      "metadata": {},
      "source": [
        "### Interpret insights\n",
        "\n",
        "\n",
        "---\n",
        "\n",
        "# Module 4: Implementing and Evaluating ML Models\n",
        "\n",
        "## Walkthrough #7: Exploring Cross-Validation for Model Evaluation\n",
        "\n",
        "### Split data into training and validation sets"
      ]
    },
    {
      "cell_type": "code",
      "metadata": {},
      "source": [
        "# Features (AvgServiceUsageScore, tenure, MonthlyCharges) and target (Churn)\n",
        "\n",
        "\n",
        "# Scale the features since logistic regression is a linear model\n",
        "\n",
        "\n",
        "# Split into train and test sets (80% train, 20% test)"
      ],
      "execution_count": null,
      "outputs": []
    },
    {
      "cell_type": "markdown",
      "metadata": {},
      "source": [
        "### Train a classification model using logistic regression"
      ]
    },
    {
      "cell_type": "code",
      "metadata": {},
      "source": [
        "# Initialize logistic regression model"
      ],
      "execution_count": null,
      "outputs": []
    },
    {
      "cell_type": "markdown",
      "metadata": {},
      "source": [
        "### Apply k-fold cross-validation to evaluate model performance"
      ]
    },
    {
      "cell_type": "code",
      "metadata": {},
      "source": [
        "# 5-fold cross-validate with multiple metrics (accuracy, precision, recall, f1)"
      ],
      "execution_count": null,
      "outputs": []
    },
    {
      "cell_type": "markdown",
      "metadata": {},
      "source": [
        "### Compare metrics across folds"
      ]
    },
    {
      "cell_type": "code",
      "metadata": {},
      "source": [
        "# Average performance across folds"
      ],
      "execution_count": null,
      "outputs": []
    },
    {
      "cell_type": "markdown",
      "metadata": {},
      "source": [
        "---\n",
        "\n",
        "## Exercise #7: Exploring Cross-Validation for Model Evaluation\n",
        "\n",
        "### Split data into training and validation sets"
      ]
    },
    {
      "cell_type": "code",
      "metadata": {},
      "source": [
        "# Features (Income, TotalSpent, TotalChildren) and target Response\n",
        "\n",
        "\n",
        "# Scale features\n",
        "\n",
        "\n",
        "# Train-test split"
      ],
      "execution_count": null,
      "outputs": []
    },
    {
      "cell_type": "markdown",
      "metadata": {},
      "source": [
        "### Train a classification model using logistic regression"
      ]
    },
    {
      "cell_type": "code",
      "metadata": {},
      "source": [
        "# Initialize logistic regression model"
      ],
      "execution_count": null,
      "outputs": []
    },
    {
      "cell_type": "markdown",
      "metadata": {},
      "source": [
        "### Apply k-fold cross-validation to evaluate model performance"
      ]
    },
    {
      "cell_type": "code",
      "metadata": {},
      "source": [
        "# 5-fold cross-validation with multiple metrics"
      ],
      "execution_count": null,
      "outputs": []
    },
    {
      "cell_type": "markdown",
      "metadata": {},
      "source": [
        "### Compare metrics across folds"
      ]
    },
    {
      "cell_type": "code",
      "metadata": {},
      "source": [
        "# Average performance across folds"
      ],
      "execution_count": null,
      "outputs": []
    },
    {
      "cell_type": "markdown",
      "metadata": {},
      "source": [
        "---\n",
        "\n",
        "## Walkthrough #8: Hyperparameter Tuning with Grid Search\n",
        "\n",
        "### Train a Random Forest classifier"
      ]
    },
    {
      "cell_type": "code",
      "metadata": {},
      "source": [
        "# Features (AvgServiceUsageScore, tenure, MonthlyCharges) and target Churn\n",
        "\n",
        "\n",
        "# Initialize Random Forest"
      ],
      "execution_count": null,
      "outputs": []
    },
    {
      "cell_type": "markdown",
      "metadata": {},
      "source": [
        "### Apply grid search to find optimal hyperparameters"
      ]
    },
    {
      "cell_type": "code",
      "metadata": {},
      "source": [
        "# Define the hyperparameter grid\n",
        "param_grid = {\n",
        "    'n_estimators': [100, 200],\n",
        "    'max_depth': [4, 8],\n",
        "    'min_samples_split': [2, 5],\n",
        "    'min_samples_leaf': [1, 2]\n",
        "}\n",
        "\n",
        "# GridSearchCV setup\n",
        "\n",
        "\n",
        "# Run grid search"
      ],
      "execution_count": null,
      "outputs": []
    },
    {
      "cell_type": "markdown",
      "metadata": {},
      "source": [
        "### Evaluate model improvement using accuracy and recall"
      ]
    },
    {
      "cell_type": "code",
      "metadata": {},
      "source": [
        "# Predict using the best model\n",
        "\n",
        "# Show accuracy and recall for best model"
      ],
      "execution_count": null,
      "outputs": []
    },
    {
      "cell_type": "markdown",
      "metadata": {},
      "source": [
        "### Interpret the best hyperparameter combination"
      ]
    },
    {
      "cell_type": "code",
      "metadata": {},
      "source": [
        "# Print the best hyperparameters found"
      ],
      "execution_count": null,
      "outputs": []
    },
    {
      "cell_type": "markdown",
      "metadata": {},
      "source": [
        "---\n",
        "\n",
        "## Exercise #8: Hyperparameter Tuning with Grid Search\n",
        "\n",
        "### Train a Random Forest classifier"
      ]
    },
    {
      "cell_type": "code",
      "metadata": {},
      "source": [
        "# Features (Income, TotalSpent, TotalChildren) and target Response\n",
        "\n",
        "\n",
        "# Initialize Random Forest"
      ],
      "execution_count": null,
      "outputs": []
    },
    {
      "cell_type": "markdown",
      "metadata": {},
      "source": [
        "### Apply grid search to find optimal hyperparameters"
      ]
    },
    {
      "cell_type": "code",
      "metadata": {},
      "source": [
        "# Define the hyperparameter grid\n",
        "param_grid_m = {\n",
        "    'n_estimators': [100, 200],\n",
        "    'max_depth': [4, 8],\n",
        "    'min_samples_split': [2, 5],\n",
        "    'min_samples_leaf': [1, 2]\n",
        "}\n",
        "\n",
        "# GridSearchCV setup with 5-fold cross-validation\n",
        "\n",
        "\n",
        "# Run grid search"
      ],
      "execution_count": null,
      "outputs": []
    },
    {
      "cell_type": "markdown",
      "metadata": {},
      "source": [
        "### Evaluate model improvement using accuracy and recall"
      ]
    },
    {
      "cell_type": "code",
      "metadata": {},
      "source": [
        "# Predict using the best model\n",
        "\n",
        "\n",
        "# Show accuracy and recall for best model"
      ],
      "execution_count": null,
      "outputs": []
    },
    {
      "cell_type": "markdown",
      "metadata": {},
      "source": [
        "### Interpret the best hyperparameter combination"
      ]
    },
    {
      "cell_type": "code",
      "metadata": {},
      "source": [
        "# Print the best hyperparameters found"
      ],
      "execution_count": null,
      "outputs": []
    }
  ],
  "metadata": {
    "kernelspec": {
      "name": "python3",
      "language": "python",
      "display_name": "Python 3 (ipykernel)",
      "path": "/usr/local/share/jupyter/kernels/python3"
    }
  },
  "nbformat": 4,
  "nbformat_minor": 4
}